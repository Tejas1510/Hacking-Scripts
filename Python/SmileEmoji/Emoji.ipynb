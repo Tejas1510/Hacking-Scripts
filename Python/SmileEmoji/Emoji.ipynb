{
 "cells": [
  {
   "cell_type": "code",
   "execution_count": 1,
   "metadata": {},
   "outputs": [],
   "source": [
    "\n",
    "import turtle\n",
    "\n",
    "\n",
    "pen = turtle.Turtle()\n",
    "\n",
    "\n",
    "def eye(col, rad):\n",
    "\tpen.down()\n",
    "\tpen.fillcolor(col)\n",
    "\tpen.begin_fill()\n",
    "\tpen.circle(rad)\n",
    "\tpen.end_fill()\n",
    "\tpen.up()\n",
    "\n",
    "pen.fillcolor('yellow')\n",
    "pen.begin_fill()\n",
    "pen.circle(100)\n",
    "pen.end_fill()\n",
    "pen.up()\n",
    "\n",
    "pen.goto(-40, 120)\n",
    "eye('white', 15)\n",
    "pen.goto(-37, 125)\n",
    "eye('black', 5)\n",
    "pen.goto(40, 120)\n",
    "eye('white', 15)\n",
    "pen.goto(40, 125)\n",
    "eye('black', 5)\n",
    "\n",
    "pen.goto(0, 75)\n",
    "eye('black', 8)\n",
    "\n",
    "pen.goto(-40, 85)\n",
    "pen.down()\n",
    "pen.right(90)\n",
    "pen.circle(40, 180)\n",
    "pen.up()\n",
    "\n",
    "pen.goto(-10, 45)\n",
    "pen.down()\n",
    "pen.right(180)\n",
    "pen.fillcolor('red')\n",
    "pen.begin_fill()\n",
    "pen.circle(10, 180)\n",
    "pen.end_fill()\n",
    "pen.hideturtle()\n"
   ]
  },
  {
   "cell_type": "code",
   "execution_count": null,
   "metadata": {},
   "outputs": [],
   "source": []
  }
 ],
 "metadata": {
  "kernelspec": {
   "display_name": "Python 3",
   "language": "python",
   "name": "python3"
  },
  "language_info": {
   "codemirror_mode": {
    "name": "ipython",
    "version": 3
   },
   "file_extension": ".py",
   "mimetype": "text/x-python",
   "name": "python",
   "nbconvert_exporter": "python",
   "pygments_lexer": "ipython3",
   "version": "3.7.6"
  }
 },
 "nbformat": 4,
 "nbformat_minor": 4
}
